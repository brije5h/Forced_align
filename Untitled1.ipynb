{
 "cells": [
  {
   "cell_type": "code",
   "execution_count": 1,
   "id": "53583805",
   "metadata": {},
   "outputs": [
    {
     "name": "stdout",
     "output_type": "stream",
     "text": [
      "OH|UM|WHERE|DID|I|PUT|MY|KEY|I|HAD|IT|JUST|A|FEW|MINUTES|AGO|UH|LET|ME|THINK|I|UH|HAD|IT|WHEN|I|CAME|IN|OR|DID|I|UM|MAYBE|I|LEFT|IT|IN|MY|JACKET|POCKET|OH|NO|WAIT|I|REMEMBER|NOW|I|UM|LEFT|IT|ON|THE|KITCHEN|COUNTER|YEAH|THAT|S|IT|\n"
     ]
    }
   ],
   "source": [
    "import re\n",
    "\n",
    "text = \"Oh, um, where did I put my key? I had it just a few minutes ago. Uh, let me think. I, uh, had it when I came in... or did I? Um, maybe I left it in my jacket pocket. Oh, no, wait! I remember now. I, um, left it on the kitchen counter. Yeah, that's it!\"\n",
    "\n",
    "# Remove symbols and replace spaces with \"|\"\n",
    "text = re.sub(r'\\W+', '|', text)\n",
    "\n",
    "# Convert text to uppercase\n",
    "text = text.upper()\n",
    "\n",
    "# Print the formatted text\n",
    "print(text)\n"
   ]
  },
  {
   "cell_type": "code",
   "execution_count": 2,
   "id": "e1f7358e",
   "metadata": {},
   "outputs": [
    {
     "name": "stdout",
     "output_type": "stream",
     "text": [
      "OH|UM|WHERE|DID|I|PUT|MY|KEY|I|HAD|IT|JUST|A|FEW|MINUTES|AGO|UH|LET|ME|THINK|I|UH|HAD|IT|WHEN|I|CAME|IN|OR|DID|I|UM|MAYBE|I|LEFT|IT|IN|MY|JACKET|POCKET|OH|NO|WAIT|I|REMEMBER|NOW|I|UM|LEFT|IT|ON|THE|KITCHEN|COUNTER|YEAH|Â|THAT|SÂ|IT|\n"
     ]
    }
   ],
   "source": [
    "import re\n",
    "\n",
    "# Read text from a TXT file\n",
    "file_path = 'Transcript.txt'\n",
    "\n",
    "with open(file_path, 'r') as file:\n",
    "    text = file.read()\n",
    "\n",
    "# Remove symbols and replace spaces with \"|\"\n",
    "text = re.sub(r'\\W+', '|', text)\n",
    "\n",
    "# Convert text to uppercase\n",
    "text = text.upper()\n",
    "\n",
    "# Print the formatted text\n",
    "print(text)\n"
   ]
  },
  {
   "cell_type": "code",
   "execution_count": 5,
   "id": "c6e55fb2",
   "metadata": {},
   "outputs": [
    {
     "name": "stdout",
     "output_type": "stream",
     "text": [
      "OH|UM|WHERE|DID|I|PUT|MY|KEY|I|HAD|IT|JUST|A|FEW|MINUTES|AGO|UH|LET|ME|THINK|I|UH|HAD|IT|WHEN|I|CAME|IN|OR|DID|I|UM|MAYBE|I|LEFT|IT|IN|MY|JACKET|POCKET|OH|NO|WAIT|I|REMEMBER|NOW|I|UM|LEFT|IT|ON|THE|KITCHEN|COUNTER|YEAH|THAT|S|IT|\n"
     ]
    }
   ],
   "source": [
    "import re\n",
    "\n",
    "# Read text from a TXT file\n",
    "file_path = 'Transcript.txt'\n",
    "\n",
    "with open(file_path, 'r', encoding='utf-8') as file:\n",
    "    text = file.read()\n",
    "\n",
    "# Remove symbols\n",
    "text = re.sub(r'\\W+', '|', text, flags=re.UNICODE)\n",
    "text = text.upper()\n",
    "\n",
    "# Print the modified text\n",
    "print(text)\n"
   ]
  },
  {
   "cell_type": "code",
   "execution_count": 6,
   "id": "07a9492b",
   "metadata": {},
   "outputs": [
    {
     "name": "stdout",
     "output_type": "stream",
     "text": [
      "OH|UM|WHERE|DID|I|PUT|MY|KEY|I|HAD|IT|JUST|A|FEW|MINUTES|AGO|UH|LET|ME|THINK|I|UH|HAD|IT|WHEN|I|CAME|IN|OR|DID|I|UM|MAYBE|I|LEFT|IT|IN|MY|JACKET|POCKET|OH|NO|WAIT|I|REMEMBER|NOW|I|UM|LEFT|IT|ON|THE|KITCHEN|COUNTER|YEAH|THAT|S|IT|\n"
     ]
    }
   ],
   "source": [
    "import re\n",
    "\n",
    "# Read text from a TXT file\n",
    "file_path = 'Transcript.txt'\n",
    "\n",
    "with open(file_path, 'r', encoding='utf-8') as file:\n",
    "    text = file.read()\n",
    "\n",
    "# Remove symbols\n",
    "text = re.sub(r'\\W+', '|', text, flags=re.UNICODE)\n",
    "text = text.upper()\n",
    "\n",
    "# Print the modified text\n",
    "print(text)\n"
   ]
  },
  {
   "cell_type": "code",
   "execution_count": null,
   "id": "29595f0a",
   "metadata": {},
   "outputs": [],
   "source": []
  }
 ],
 "metadata": {
  "kernelspec": {
   "display_name": "Python 3 (ipykernel)",
   "language": "python",
   "name": "python3"
  },
  "language_info": {
   "codemirror_mode": {
    "name": "ipython",
    "version": 3
   },
   "file_extension": ".py",
   "mimetype": "text/x-python",
   "name": "python",
   "nbconvert_exporter": "python",
   "pygments_lexer": "ipython3",
   "version": "3.9.13"
  }
 },
 "nbformat": 4,
 "nbformat_minor": 5
}
