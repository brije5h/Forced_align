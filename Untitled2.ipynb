{
 "cells": [
  {
   "cell_type": "code",
   "execution_count": 1,
   "id": "26ca1326",
   "metadata": {},
   "outputs": [],
   "source": [
    "import torchaudio\n",
    "\n",
    "def trim_wav(input_path, output_path, start_time, end_time):\n",
    "    # Load the WAV file\n",
    "    waveform, sample_rate = torchaudio.load(input_path)\n",
    "\n",
    "    # Calculate the start and end indices based on time\n",
    "    start_index = int(start_time * sample_rate)\n",
    "    end_index = int(end_time * sample_rate)\n",
    "\n",
    "    # Trim the waveform\n",
    "    trimmed_waveform = waveform[:, start_index:end_index]\n",
    "\n",
    "    # Save the trimmed waveform as a new WAV file\n",
    "    torchaudio.save(output_path, trimmed_waveform, sample_rate)\n",
    "\n",
    "# Example usage\n",
    "input_path = \"voice.wav\"\n",
    "output_path = \"output.wav\"\n",
    "start_time = 1.0  # Start trimming from 1 second\n",
    "end_time = 5.0  # End trimming at 3.5 seconds\n",
    "\n",
    "trim_wav(input_path, output_path, start_time, end_time)\n"
   ]
  },
  {
   "cell_type": "code",
   "execution_count": null,
   "id": "cbd74ecc",
   "metadata": {},
   "outputs": [],
   "source": []
  }
 ],
 "metadata": {
  "kernelspec": {
   "display_name": "Python 3 (ipykernel)",
   "language": "python",
   "name": "python3"
  },
  "language_info": {
   "codemirror_mode": {
    "name": "ipython",
    "version": 3
   },
   "file_extension": ".py",
   "mimetype": "text/x-python",
   "name": "python",
   "nbconvert_exporter": "python",
   "pygments_lexer": "ipython3",
   "version": "3.9.13"
  }
 },
 "nbformat": 4,
 "nbformat_minor": 5
}
